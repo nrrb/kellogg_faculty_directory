{
 "cells": [
  {
   "cell_type": "code",
   "execution_count": 72,
   "metadata": {
    "collapsed": true
   },
   "outputs": [],
   "source": [
    "import time\n",
    "from urlparse import urljoin\n",
    "from bs4 import BeautifulSoup\n",
    "import requests\n",
    "from openpyxl import Workbook\n",
    "from IPython.display import Image"
   ]
  },
  {
   "cell_type": "code",
   "execution_count": 78,
   "metadata": {
    "collapsed": false
   },
   "outputs": [],
   "source": [
    "def get_faculty_info_by_netid(netid):\n",
    "    BASE_URL = \"http://www.kellogg.northwestern.edu/\"\n",
    "    response = requests.get(\"http://www.kellogg.northwestern.edu/faculty/faculty_search_results.aspx?netid={0}\".format(netid))\n",
    "    soup = BeautifulSoup(response.content)\n",
    "    headshot_image_tag = soup.find(id=\"imgFacultyImage\")\n",
    "    if headshot_image_tag:\n",
    "        headshot_image_url = urljoin(BASE_URL, headshot_image_tag['src'])\n",
    "    else:\n",
    "        headshot_image_url = ''\n",
    "    return {'headshot_image_url': headshot_image_url,\n",
    "            'name': soup.find(id=\"lblName\").string if soup.find(id=\"lblName\") else '',\n",
    "            'url': response.url,\n",
    "            'office': soup.find(id=\"lblOffice\").string if soup.find(id=\"lblOffice\") else '',\n",
    "            'department': soup.find(id=\"lblDepartment\").string if soup.find(id=\"lblDepartment\") else '',\n",
    "            'title': soup.find(id=\"lblTitle\").string if soup.find(id=\"lblTitle\") else ''}\n",
    "    "
   ]
  },
  {
   "cell_type": "code",
   "execution_count": 31,
   "metadata": {
    "collapsed": true
   },
   "outputs": [],
   "source": [
    "def get_faculty_netids():\n",
    "    response = requests.get(\"http://www.kellogg.northwestern.edu/faculty/advanced_search.aspx\")\n",
    "    soup = BeautifulSoup(response.content)\n",
    "    return sorted([option['value'] for option in soup.find(id=\"plcprimarymaincontent_1_selBrowseByName\").find_all(\"option\") if option['value']])\n",
    "        "
   ]
  },
  {
   "cell_type": "code",
   "execution_count": 33,
   "metadata": {
    "collapsed": true
   },
   "outputs": [],
   "source": [
    "netids = get_faculty_netids()"
   ]
  },
  {
   "cell_type": "code",
   "execution_count": 59,
   "metadata": {
    "collapsed": false
   },
   "outputs": [
    {
     "name": "stdout",
     "output_type": "stream",
     "text": [
      "{'name': u'Joel K. Shapiro', 'office': u'Jacobs Center Room 495', 'title': u'Clinical Associate Professor and Executive Director for the Program on Data Analytics at Kellogg', 'url': u'http://www.kellogg.northwestern.edu/faculty/directory/shapiro_joel_k.aspx', 'headshot_image_url': 'http://www.kellogg.northwestern.edu/~/media/Images/faculty/headshot/Shapiro_Joel_51315.ashx', 'department': u'MARKETS & CUSTOMERS', 'email': 'jshapiro@kellogg.northwestern.edu'}\n"
     ]
    }
   ],
   "source": [
    "faculty_info = get_faculty_info_by_netid(netids[0])\n",
    "print faculty_info"
   ]
  },
  {
   "cell_type": "code",
   "execution_count": 51,
   "metadata": {
    "collapsed": false
   },
   "outputs": [
    {
     "name": "stdout",
     "output_type": "stream",
     "text": [
      "{'content-length': '16351', 'content-disposition': 'inline; filename=\"Albert_Terri_0913.jpg\"', 'x-aspnet-version': '4.0.30319', 'accept-ranges': 'bytes', 'expires': 'Tue, 21 Jul 2015 15:59:47 GMT', 'server': 'Microsoft-IIS/7.5', 'last-modified': 'Tue, 17 Sep 2013 18:45:36 GMT', 'cache-control': 'private, max-age=604800', 'date': 'Tue, 14 Jul 2015 15:59:47 GMT', 'x-frame-options': 'SAMEORIGIN', 'x-powered-by': 'ASP.NET', 'content-type': 'image/jpeg'}\n"
     ]
    }
   ],
   "source": [
    "r = requests.get(faculty_info['headshot_image_url'])\n",
    "print r.headers"
   ]
  },
  {
   "cell_type": "code",
   "execution_count": 56,
   "metadata": {
    "collapsed": false
   },
   "outputs": [],
   "source": [
    "def save_list_to_excel_workbook(dict_list, filename):\n",
    "    wb = Workbook()\n",
    "    worksheet = wb.create_sheet()\n",
    "    worksheet.title = \"Kellogg Faculty\"\n",
    "    for row in dict_list:\n",
    "        worksheet.append(row.items())\n",
    "    wb.save(filename = filename)\n",
    "\n",
    "def save_list_to_csv(dict_list, filename):\n",
    "    import csv\n",
    "    with open(filename, 'wb') as f:\n",
    "        dw = csv.DictWriter(f, fieldnames=dict_list[0].keys())\n",
    "        dw.writeheader()\n",
    "        dw.writerows(dict_list)"
   ]
  },
  {
   "cell_type": "code",
   "execution_count": 70,
   "metadata": {
    "collapsed": false
   },
   "outputs": [],
   "source": [
    "info_by_netid = {}"
   ]
  },
  {
   "cell_type": "code",
   "execution_count": 81,
   "metadata": {
    "collapsed": false
   },
   "outputs": [
    {
     "name": "stdout",
     "output_type": "stream",
     "text": [
      "Already have info for netids: JKS987, aad400, aal953, aaz426, aaz777, aba747, aba897, acc675, acd937, ach465, aci140, acm104, adc128, ads232, aea450, aes711, aes797, aew632, agm111, agw812, aja886, ajg877, ajr484, ajr908, ajx391, akr857, alo137, amtybout, amv553, andtoga, ane686, ard, aro357, asa906, asr279, ath454, avi743, awg221, awi974, ayl676, bab234, bbala, bbm180, bci802, bdc773, besanko, beu104, bfj879, bgb655, bgk766, bha822, bjc943, bjl470, bmu055, bmw430, bov740, bre616, brg253, bsb220, bsc536, bshwom, bst047, bte632, btm278, buzzi, bwa017, bwr295, cbl566, cbr943, cch274, cfa496, cfu111, cga846, cgn482, cjo754, ckv816, cld280, cmb816, costis, coughlan, css661, cts823, cwo918, dad618, dad899, dae324, dag246, dag951, dam299, das714, dau958, dbm330, dch687, dco291, ddr741, dhh667, dic002, djd155, djg894, djm724, djw649, dla634, dli309, dli989, dmessick, dpa674, dpj782, dps631, dra, dranove, drc156, dsf419, dsg456, dvb429, dya741, eal780, eby668, ecs693, edb628, edn755, edp105, efh911, efi614, egmon, ejd466, ejz711, emm237, esa881, esh617, esm565, eta008, eti059, evr536, ewl563, fdh598, fli800, frw525, fwo246, fze224, gab913, gak477, gal748, gau458, gba753, ggs322, ggv163, ghl230, gjb834, gsc178, gve212, haj477, hbe969, hls824, hmk808, hpa766, hrb734, hsa220, hsbienen, igu275, ila827, ild502, ist712, jac274, jam382, jap255, jbc735, jbs755, jca186, jce136, jcg910, jco899, jcp091, jdg737, jdh734, jdw231, jdw804, jeb385, jeb785, jec269, jed216, jel292, jems, jha569, jjp788, jkh121, jkm466, jkm929, jlavine, jlc087, jle291, jli673, jls428, jlw744, jlw843, jmbrett, jmf485, jml853, jmm175, jng640, jnh775, jnj497, jpn849, jps974, jsa801, jsc085, jsp743, jsp882, jss804, jst289, jsw976, jyr483, kag108, kalai, kcates, kcb259, kgo803, khagerty, khs687, kjo306, kma071, kmp015, kmu155, knm261, kot, kra262, kss129, ktm799, kwe110, kwm094, kwt133, laf029, laksh, lar768, lchrist, les505, lfn276, lhe331, lka781, lku998, lld141, lls145, lsd745, lth070, lvi514, lwstern, lwu409, maa669, maa958, marksatt, mav080, mce093, mcm701, mdw054, mek308, mfishman, mjj956, mjm918, mjr691, mjv617, mke060, mkk152, mkt895, mla562, mlb189, mlp463, mma317, mma355, mmo671, mop467, mos556, mpo165, mra222, mrb210, mrl898, mrs774, mtt830, mtuite, mwf497, myrogers, nap713, nbh031, ncf551, nco146, ncs659, ndo051, ngp243, nia614, njr332, njs159, nma444, nms770, nsh711, nsk618, nvi022, nye231, oaj632, oic574, pbraun, pch564, pco103, pdl419, pdu754, peterk, petersen, phl794, pil688, pjl562, plb484, plc275, pmh240, psa697, pwe320, rac401, rad872, rak, raviv, rbd382, rbf212, rbm615, rbz437, rcb, rck508, rcv790, rdd644, rds351, rdye, rew633, rgr210, rhm626, rik483, rja235, rjs496, rjw933, rjweber, rka402, rlb851, rlu714, rmcd, rmh155, rmm277, rph003, rpm161, rsc950, rvl823, rvv684, saf516, saraniti, sawhney, sba966, sbb805, scb883, schopra, scl993, scs528, sdeshmuk, sdm925, seb327, sep293, sft769, sft863, sgc633, sgd561, sgr281, sig280, sjlevy, ske723, sma490, sma707, smf568, smj590, spresser, srb834, sridhara, sro850, srv584, ssc458, ssh691, sst894, str168, stumeyer, svo903, sya510, syk683, tca777, tca784, tdk776, tep336, tfed, thu845, tjb395, tjm765, tlys, tmf298, tmp964, tnb258, tnh158, tor304, tpu935, trp929, tso836, tst706, tthompso, ubo844, vef235, vhm679, vnm336, vrd346, vst876, wbe701, wbh488, wds005, wdz671, whu069, wjb796, wjh417, wjw412, wko095, wli745, woc071, wol737, wolcott, wsl569, wwo390, ych265, ydm531, yona, yqi306, ysa622, yvh739, ywa740, zcb864, zxu735\n"
     ]
    }
   ],
   "source": [
    "print \"Already have info for netids: {0}\".format(', '.join(sorted(info_by_netid.keys())))\n",
    "for netid in netids:\n",
    "    if netid not in info_by_netid:\n",
    "        print \"Getting info for {0}\".format(netid)\n",
    "        info_by_netid[netid] = get_faculty_info_by_netid(netid)\n",
    "        time.sleep(0.2)"
   ]
  },
  {
   "cell_type": "code",
   "execution_count": 86,
   "metadata": {
    "collapsed": false
   },
   "outputs": [],
   "source": [
    "save_list_to_csv(info_by_netid.values(), \"faculty.csv\")"
   ]
  },
  {
   "cell_type": "code",
   "execution_count": null,
   "metadata": {
    "collapsed": true
   },
   "outputs": [],
   "source": []
  }
 ],
 "metadata": {
  "kernelspec": {
   "display_name": "Python 2",
   "language": "python",
   "name": "python2"
  },
  "language_info": {
   "codemirror_mode": {
    "name": "ipython",
    "version": 2
   },
   "file_extension": ".py",
   "mimetype": "text/x-python",
   "name": "python",
   "nbconvert_exporter": "python",
   "pygments_lexer": "ipython2",
   "version": "2.7.10"
  }
 },
 "nbformat": 4,
 "nbformat_minor": 0
}
